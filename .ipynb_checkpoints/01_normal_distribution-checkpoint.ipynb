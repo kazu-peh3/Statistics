{
 "cells": [
  {
   "cell_type": "markdown",
   "metadata": {},
   "source": [
    "## 01_正規分布 "
   ]
  },
  {
   "cell_type": "markdown",
   "metadata": {},
   "source": [
    "平均を$\\mu$、分散を$\\sigma^2$とする正規分布の確率密度関数(ガウス関数)は以下の式で表す。またこの分布を$N(\\mu, \\sigma^2)$で表す。"
   ]
  },
  {
   "cell_type": "markdown",
   "metadata": {},
   "source": [
    "$$\n",
    "\\begin{align}\n",
    "f(x)=\\frac{1}{\\sqrt{2\\pi \\sigma^2}}\\exp{\\left\\{-\\frac{(x-\\mu)^2}{2\\sigma^2}\\right\\}}\n",
    "\\end{align}\n",
    "$$"
   ]
  },
  {
   "cell_type": "markdown",
   "metadata": {},
   "source": [
    "特に平均$\\mu=0$かつ分散$\\sigma^2=1$のとき、この分布は**標準正規分布**と呼ばれる。"
   ]
  },
  {
   "cell_type": "markdown",
   "metadata": {},
   "source": [
    "$$\n",
    "\\begin{align}\n",
    "f(x)=\\frac{1}{\\sqrt{2\\pi}}\\exp\\left(-\\frac{x^2}{2}\\right)\n",
    "\\end{align}\n",
    "$$"
   ]
  },
  {
   "cell_type": "markdown",
   "metadata": {},
   "source": [
    "### 正規分布の期待値、分散、標準偏差の導出"
   ]
  },
  {
   "cell_type": "markdown",
   "metadata": {},
   "source": [
    "#### 期待値"
   ]
  },
  {
   "cell_type": "markdown",
   "metadata": {},
   "source": [
    "$$\n",
    "\\begin{align}\n",
    "E(x)=\\int_{-\\infty}^{\\infty}xf(x)dx=\\mu\n",
    "\\end{align}\n",
    "$$"
   ]
  },
  {
   "cell_type": "markdown",
   "metadata": {},
   "source": [
    "#### 分散"
   ]
  },
  {
   "cell_type": "markdown",
   "metadata": {},
   "source": [
    "$$\n",
    "\\begin{align}\n",
    "E(x)=\\int_{-\\infty}^{\\infty}x^2f(x)dx=\\sigma^2\n",
    "\\end{align}\n",
    "$$"
   ]
  },
  {
   "cell_type": "markdown",
   "metadata": {},
   "source": [
    "#### 標準偏差"
   ]
  },
  {
   "cell_type": "markdown",
   "metadata": {},
   "source": [
    "$$\n",
    "\\begin{align}\n",
    "SD(x)=\\sqrt{V(x)}=\\sigma\n",
    "\\end{align}\n",
    "$$"
   ]
  },
  {
   "cell_type": "markdown",
   "metadata": {},
   "source": [
    "### 正規分布の標準化"
   ]
  },
  {
   "cell_type": "markdown",
   "metadata": {},
   "source": [
    "確率変数$x$が正規分布$N(\\mu, \\sigma^2)$に従うとき、$Z$を以下の式で変換すると$Z$は標準正規分布$N(0, 1^2)$に従う。"
   ]
  },
  {
   "cell_type": "markdown",
   "metadata": {},
   "source": [
    "$$\n",
    "\\begin{align}\n",
    "Z=\\frac{x-\\mu}{\\sigma}\n",
    "\\end{align}\n",
    "$$"
   ]
  },
  {
   "cell_type": "markdown",
   "metadata": {},
   "source": [
    "$$\n",
    "\\begin{align}\n",
    "\\Phi(x)=\\frac{1}{\\sqrt{2\\pi}}\\exp\\left(-\\frac{Z^2}{2}\\right)\n",
    "\\end{align}\n",
    "$$"
   ]
  },
  {
   "cell_type": "code",
   "execution_count": 10,
   "metadata": {},
   "outputs": [
    {
     "name": "stdout",
     "output_type": "stream",
     "text": [
      "[-15.95769122 -15.9377441  -15.91779699 ...,  15.89784987  15.91779699\n",
      "  15.9377441 ]\n",
      "[-3.19153824 -3.18754882 -3.1835594  ...,  3.17956997  3.1835594\n",
      "  3.18754882]\n",
      "[-0.63830765 -0.63750976 -0.63671188 ...,  0.63591399  0.63671188\n",
      "  0.63750976]\n"
     ]
    },
    {
     "data": {
      "text/plain": [
       "<Figure size 720x360 with 0 Axes>"
      ]
     },
     "metadata": {},
     "output_type": "display_data"
    }
   ],
   "source": [
    "%matplotlib inline\n",
    "import matplotlib.pyplot as plt\n",
    "import numpy as np\n",
    "\n",
    "plt.figure(figsize=(10,5))    #画像の出力サイズを調整\n",
    "\n",
    "sigma = [0.2,1.0,5.0] #シグマの値\n",
    "muu = [0,4,0] #μの値\n",
    "\n",
    "x = np.arange(-8., 8., 0.01)     #-8から８まで0.01刻みの配列\n",
    "\n",
    "for s, m in zip(sigma,muu):\n",
    "    y = (1 / np.sqrt(2 * np.pi * s ** 2 ) )*x# * np.exp(-(x – m) ** 2 / (2 * s) )\n",
    "    print(y)\n",
    "    #plt.plot(x, y)     #x, yをplotします\n",
    "    #plt.grid()     #グリット線\n",
    "    #plt.xlabel(‘x’)     #x軸のラベル\n",
    "    #plt.ylabel(‘y’)     #y軸のラベル\n",
    "    #plt.legend([\"σ=0.2 μ=0\", \"σ=1.0 μ=4″,\"σ=5.0 μ=0″],loc=\"upper left\")   #凡例を左上に表示\n",
    "\n",
    "plt.show()"
   ]
  },
  {
   "cell_type": "code",
   "execution_count": null,
   "metadata": {},
   "outputs": [],
   "source": []
  }
 ],
 "metadata": {
  "kernelspec": {
   "display_name": "Python 3",
   "language": "python",
   "name": "python3"
  },
  "language_info": {
   "codemirror_mode": {
    "name": "ipython",
    "version": 3
   },
   "file_extension": ".py",
   "mimetype": "text/x-python",
   "name": "python",
   "nbconvert_exporter": "python",
   "pygments_lexer": "ipython3",
   "version": "3.6.5"
  }
 },
 "nbformat": 4,
 "nbformat_minor": 2
}
